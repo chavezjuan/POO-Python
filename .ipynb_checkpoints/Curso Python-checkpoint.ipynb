{
 "cells": [
  {
   "cell_type": "markdown",
   "metadata": {},
   "source": [
    "# Curso Python PIG UFF 2020.2"
   ]
  },
  {
   "cell_type": "markdown",
   "metadata": {},
   "source": [
    "## Aula 62"
   ]
  },
  {
   "cell_type": "markdown",
   "metadata": {},
   "source": [
    "### Herança e Polimorfismo"
   ]
  },
  {
   "cell_type": "code",
   "execution_count": 28,
   "metadata": {},
   "outputs": [],
   "source": [
    "class Mamifero(object):\n",
    "    def __init__(self, pelo, genero, num_patas):\n",
    "        self.pelo = pelo\n",
    "        self.genero = genero\n",
    "        self.num_patas = num_patas\n",
    "    def falar(self):\n",
    "        print('Ola sou um mamífero e sei falar')\n",
    "    def andar(self):\n",
    "        print('Estou andando sobre %i patas' %self.num_patas)\n",
    "    def amamentar(self):\n",
    "        if self.genero.lower()[0] == 'm':\n",
    "            print('Machos não amamentam')\n",
    "            return\n",
    "        print('Amamentando meu filhote')\n",
    "        "
   ]
  },
  {
   "cell_type": "code",
   "execution_count": 2,
   "metadata": {},
   "outputs": [],
   "source": [
    "Rex = Mamifero('marrom', 'masculino', 4)"
   ]
  },
  {
   "cell_type": "code",
   "execution_count": 3,
   "metadata": {},
   "outputs": [
    {
     "name": "stdout",
     "output_type": "stream",
     "text": [
      "Ola sou um maífero e sei falar\n"
     ]
    }
   ],
   "source": [
    "Rex.falar()"
   ]
  },
  {
   "cell_type": "code",
   "execution_count": 4,
   "metadata": {},
   "outputs": [
    {
     "name": "stdout",
     "output_type": "stream",
     "text": [
      "Estou andando sobre 4 patas\n"
     ]
    }
   ],
   "source": [
    "Rex.andar()"
   ]
  },
  {
   "cell_type": "code",
   "execution_count": 5,
   "metadata": {},
   "outputs": [
    {
     "name": "stdout",
     "output_type": "stream",
     "text": [
      "Machos não amamentam\n"
     ]
    }
   ],
   "source": [
    "Rex.amamentar()"
   ]
  },
  {
   "cell_type": "code",
   "execution_count": 6,
   "metadata": {},
   "outputs": [],
   "source": [
    "Julia = Mamifero('preta', 'feminino', 2)"
   ]
  },
  {
   "cell_type": "code",
   "execution_count": 7,
   "metadata": {},
   "outputs": [
    {
     "name": "stdout",
     "output_type": "stream",
     "text": [
      "Estou andando sobre 2 patas\n"
     ]
    }
   ],
   "source": [
    "Julia.andar()"
   ]
  },
  {
   "cell_type": "code",
   "execution_count": 8,
   "metadata": {},
   "outputs": [
    {
     "name": "stdout",
     "output_type": "stream",
     "text": [
      "Amamentando meu filhote\n"
     ]
    }
   ],
   "source": [
    "Julia.amamentar()"
   ]
  },
  {
   "cell_type": "markdown",
   "metadata": {},
   "source": [
    "#### Criando uma subclasse que irá herdar as características da classe Mamífero"
   ]
  },
  {
   "cell_type": "code",
   "execution_count": 9,
   "metadata": {},
   "outputs": [],
   "source": [
    "class Pessoa(Mamifero):\n",
    "    pass"
   ]
  },
  {
   "cell_type": "code",
   "execution_count": 10,
   "metadata": {},
   "outputs": [],
   "source": [
    "Julia = Pessoa('preta', 'feminino', 2)"
   ]
  },
  {
   "cell_type": "markdown",
   "metadata": {},
   "source": [
    "#### A seguir observamos que que o objeto Julia da subclasse Pessoa continua acessando os métodos e propriedades de sua classe Mãe (Superclasse)"
   ]
  },
  {
   "cell_type": "code",
   "execution_count": 11,
   "metadata": {},
   "outputs": [
    {
     "name": "stdout",
     "output_type": "stream",
     "text": [
      "Estou andando sobre 2 patas\n"
     ]
    }
   ],
   "source": [
    "Julia.andar()"
   ]
  },
  {
   "cell_type": "code",
   "execution_count": 12,
   "metadata": {},
   "outputs": [
    {
     "name": "stdout",
     "output_type": "stream",
     "text": [
      "Amamentando meu filhote\n"
     ]
    }
   ],
   "source": [
    "Julia.amamentar()"
   ]
  },
  {
   "cell_type": "markdown",
   "metadata": {},
   "source": [
    "#### Agora se criarmos métodos e atributos com o mesmo nome da superclasse, iremos sobrescrever o método/atributo original. Para isso chamamos de Polimorfismo."
   ]
  },
  {
   "cell_type": "code",
   "execution_count": 27,
   "metadata": {},
   "outputs": [],
   "source": [
    "class Pessoa(Mamifero):\n",
    "    def __init__(self, pelo, genero, num_patas, cabelo):\n",
    "        super(Pessoa, self).__init__(pelo, genero, num_patas)\n",
    "        super(Pessoa, self).falar()\n",
    "        self.cabelo = 'Loiro'\n",
    "    def falar(self):\n",
    "        print('Ola sou uma pessoa e sei falar')"
   ]
  },
  {
   "cell_type": "code",
   "execution_count": 19,
   "metadata": {},
   "outputs": [
    {
     "ename": "TypeError",
     "evalue": "__init__() missing 3 required positional arguments: 'pelo', 'genero', and 'num_patas'",
     "output_type": "error",
     "traceback": [
      "\u001b[1;31m---------------------------------------------------------------------------\u001b[0m",
      "\u001b[1;31mTypeError\u001b[0m                                 Traceback (most recent call last)",
      "\u001b[1;32m<ipython-input-19-f8eda18fe5d6>\u001b[0m in \u001b[0;36m<module>\u001b[1;34m\u001b[0m\n\u001b[1;32m----> 1\u001b[1;33m \u001b[0mJulia\u001b[0m \u001b[1;33m=\u001b[0m \u001b[0mPessoa\u001b[0m\u001b[1;33m(\u001b[0m\u001b[1;33m)\u001b[0m\u001b[1;33m\u001b[0m\u001b[1;33m\u001b[0m\u001b[0m\n\u001b[0m",
      "\u001b[1;31mTypeError\u001b[0m: __init__() missing 3 required positional arguments: 'pelo', 'genero', and 'num_patas'"
     ]
    }
   ],
   "source": [
    "Julia = Pessoa()"
   ]
  },
  {
   "cell_type": "code",
   "execution_count": 18,
   "metadata": {},
   "outputs": [
    {
     "name": "stdout",
     "output_type": "stream",
     "text": [
      "Ola sou uma pessoa e sei falar\n"
     ]
    }
   ],
   "source": [
    "Julia.falar()"
   ]
  },
  {
   "cell_type": "markdown",
   "metadata": {},
   "source": [
    "#### Com a função `super` conseguimos usar os métodos e atributos da superclasse."
   ]
  },
  {
   "cell_type": "code",
   "execution_count": 29,
   "metadata": {},
   "outputs": [
    {
     "name": "stdout",
     "output_type": "stream",
     "text": [
      "Ola sou um mamífero e sei falar\n"
     ]
    }
   ],
   "source": [
    "Julia = Pessoa('preta', 'feminino', 2, 'Loiro')"
   ]
  },
  {
   "cell_type": "code",
   "execution_count": 30,
   "metadata": {},
   "outputs": [
    {
     "name": "stdout",
     "output_type": "stream",
     "text": [
      "Ola sou uma pessoa e sei falar\n"
     ]
    }
   ],
   "source": [
    "Julia.falar()"
   ]
  },
  {
   "cell_type": "markdown",
   "metadata": {},
   "source": [
    "#### Uma boa prática é fazer que todas as classes sejam subclasse da classe `object`. Por isso anteriormente escrevemos funções com esse parâmetro."
   ]
  },
  {
   "cell_type": "markdown",
   "metadata": {},
   "source": [
    "## Aula 63\n",
    "https://www.youtube.com/watch?v=EATc7M4jYiA&list=PLfCKf0-awunOu2WyLe2pSD2fXUo795xRe&index=65&t=10s"
   ]
  },
  {
   "cell_type": "markdown",
   "metadata": {},
   "source": [
    "### Abstração, Atributo/Métodos Estáticos e Encapsulamento"
   ]
  },
  {
   "cell_type": "markdown",
   "metadata": {},
   "source": [
    "#### Abstração"
   ]
  },
  {
   "cell_type": "markdown",
   "metadata": {},
   "source": [
    "Começamos com a Abstração. Ela consiste em criar um método mas não implementa-lo, deixando essa tarefa para as subclasses que derão implementar esse método. No código a seguir, os métodos `area` e `perimetro` são métodos abstratos. Esse conceito é muito parecido com o de Interface, no qual encontramos nativo na linguagem C#."
   ]
  },
  {
   "cell_type": "code",
   "execution_count": 1,
   "metadata": {},
   "outputs": [],
   "source": [
    "class ObjetoGrafico(object):\n",
    "    def __init__(self, cor):\n",
    "        self.cor = cor\n",
    "    def area(self):\n",
    "        pass\n",
    "    def perimetro(self):\n",
    "        pass\n",
    "    def info(self):\n",
    "        print('%f metros quadrados serão preenchidos com a cor %s'%(self.area(), self.cor))\n",
    "        "
   ]
  },
  {
   "cell_type": "markdown",
   "metadata": {},
   "source": [
    "#### Atributo/Métodos Estáticos"
   ]
  },
  {
   "cell_type": "code",
   "execution_count": 3,
   "metadata": {},
   "outputs": [],
   "source": [
    "class Conta(object):\n",
    "    total = 10000\n",
    "    reserva = 0.1\n",
    "    def __init__(self,ID, saldo):\n",
    "        self.ID = ID\n",
    "        self.saldo = saldo\n",
    "    def deposito(self, valor):\n",
    "        self.saldo += valor\n",
    "        Conta.total += self.saldo\n",
    "    def saque(self, valor):\n",
    "        if self.saldo >= valor:\n",
    "            self.saldo -= valor\n",
    "            Conta.total -= valor\n",
    "    def imprimeReserva():\n",
    "        print(Conta.total*Conta.reserva)"
   ]
  },
  {
   "cell_type": "markdown",
   "metadata": {},
   "source": [
    "#### Encapsulamento"
   ]
  },
  {
   "cell_type": "markdown",
   "metadata": {},
   "source": [
    "Encapsulamento é esconder determinado atributo ou método. É o equivalente ao `private` no C# ou Java. Só pode ser acesso dentro da instância ou classe. Observo no exemplo a seguir que `__total` e `__ID` possuem um identificador antes do nome da variável, o que caracteriza uma variável privada. Em Python não existe `protected`."
   ]
  },
  {
   "cell_type": "code",
   "execution_count": 8,
   "metadata": {},
   "outputs": [],
   "source": [
    "class Conta(object):\n",
    "    __total = 10000\n",
    "    reserva = 0.1\n",
    "    def __init__(self,ID, saldo):\n",
    "        self.__ID = ID\n",
    "        self.saldo = saldo\n",
    "    def deposito(self, valor):\n",
    "        self.saldo += valor\n",
    "        Conta.total += self.saldo\n",
    "    def saque(self, valor):\n",
    "        if self.saldo >= valor:\n",
    "            self.saldo -= valor\n",
    "            Conta.__total -= valor\n",
    "    def imprimeReserva():\n",
    "        print(Conta.__total*Conta.reserva)"
   ]
  },
  {
   "cell_type": "code",
   "execution_count": 5,
   "metadata": {},
   "outputs": [],
   "source": [
    "itau = Conta(123, 5000)"
   ]
  },
  {
   "cell_type": "code",
   "execution_count": 6,
   "metadata": {},
   "outputs": [
    {
     "ename": "AttributeError",
     "evalue": "type object 'Conta' has no attribute 'total'",
     "output_type": "error",
     "traceback": [
      "\u001b[1;31m---------------------------------------------------------------------------\u001b[0m",
      "\u001b[1;31mAttributeError\u001b[0m                            Traceback (most recent call last)",
      "\u001b[1;32m<ipython-input-6-c73a5cb0c5a5>\u001b[0m in \u001b[0;36m<module>\u001b[1;34m\u001b[0m\n\u001b[1;32m----> 1\u001b[1;33m \u001b[0mConta\u001b[0m\u001b[1;33m.\u001b[0m\u001b[0mtotal\u001b[0m\u001b[1;33m\u001b[0m\u001b[1;33m\u001b[0m\u001b[0m\n\u001b[0m",
      "\u001b[1;31mAttributeError\u001b[0m: type object 'Conta' has no attribute 'total'"
     ]
    }
   ],
   "source": [
    "Conta.total"
   ]
  },
  {
   "cell_type": "code",
   "execution_count": 7,
   "metadata": {},
   "outputs": [
    {
     "ename": "AttributeError",
     "evalue": "'Conta' object has no attribute '__ID'",
     "output_type": "error",
     "traceback": [
      "\u001b[1;31m---------------------------------------------------------------------------\u001b[0m",
      "\u001b[1;31mAttributeError\u001b[0m                            Traceback (most recent call last)",
      "\u001b[1;32m<ipython-input-7-90148ddc5525>\u001b[0m in \u001b[0;36m<module>\u001b[1;34m\u001b[0m\n\u001b[1;32m----> 1\u001b[1;33m \u001b[0mitau\u001b[0m\u001b[1;33m.\u001b[0m\u001b[0m__ID\u001b[0m\u001b[1;33m\u001b[0m\u001b[1;33m\u001b[0m\u001b[0m\n\u001b[0m",
      "\u001b[1;31mAttributeError\u001b[0m: 'Conta' object has no attribute '__ID'"
     ]
    }
   ],
   "source": [
    "itau.__ID"
   ]
  },
  {
   "cell_type": "code",
   "execution_count": 9,
   "metadata": {},
   "outputs": [],
   "source": [
    "itau.saque(1000)"
   ]
  },
  {
   "cell_type": "code",
   "execution_count": 10,
   "metadata": {},
   "outputs": [
    {
     "name": "stdout",
     "output_type": "stream",
     "text": [
      "900.0\n"
     ]
    }
   ],
   "source": [
    "Conta.imprimeReserva()"
   ]
  },
  {
   "cell_type": "markdown",
   "metadata": {},
   "source": [
    "## Aula 64"
   ]
  },
  {
   "cell_type": "markdown",
   "metadata": {},
   "source": [
    "https://www.youtube.com/watch?v=mO_MGgyFY1Y&list=PLfCKf0-awunOu2WyLe2pSD2fXUo795xRe&index=66&t=5s"
   ]
  },
  {
   "cell_type": "markdown",
   "metadata": {},
   "source": [
    "### Métodos e Atributos Especiais"
   ]
  },
  {
   "cell_type": "markdown",
   "metadata": {},
   "source": [
    "#### Métodos especiais"
   ]
  },
  {
   "cell_type": "markdown",
   "metadata": {},
   "source": [
    "`def __str__(self)` converte o objeto em string"
   ]
  },
  {
   "cell_type": "markdown",
   "metadata": {},
   "source": [
    "`def __add__(self)` permite usar a sintaxe de + para fazer operações. Da mesma forma `__sub__`, `__div__`, `__mult__`"
   ]
  },
  {
   "cell_type": "markdown",
   "metadata": {},
   "source": [
    "`__doc__` devolve uma string que contém a descrição dada aos métodos e de funções. Tudo que estiver entre `\"\"\"` `\"\"\"`"
   ]
  },
  {
   "cell_type": "markdown",
   "metadata": {},
   "source": [
    "`help()` detalhamento do objeto e classe"
   ]
  },
  {
   "cell_type": "markdown",
   "metadata": {},
   "source": [
    "#### Atributos"
   ]
  },
  {
   "cell_type": "markdown",
   "metadata": {},
   "source": [
    "`issubclass(Filha, Pai)` retorna se a classe FIlha é subclasse de Pai"
   ]
  },
  {
   "cell_type": "markdown",
   "metadata": {},
   "source": [
    "`Filha.__bases__` retorna quem é a sua superclasse direta."
   ]
  },
  {
   "cell_type": "markdown",
   "metadata": {},
   "source": [
    "`callable(Pai)` retorna se o objeto é chamável"
   ]
  },
  {
   "cell_type": "markdown",
   "metadata": {},
   "source": [
    "`def __call__(self, x): return x` torna o objeto chamável"
   ]
  },
  {
   "cell_type": "markdown",
   "metadata": {},
   "source": [
    "## Aula 65"
   ]
  },
  {
   "cell_type": "markdown",
   "metadata": {},
   "source": [
    "https://www.youtube.com/watch?v=RNZgGJsucQs&list=PLfCKf0-awunOu2WyLe2pSD2fXUo795xRe&index=66"
   ]
  },
  {
   "cell_type": "markdown",
   "metadata": {},
   "source": [
    "### Comparações e Extendendo objetos do Python"
   ]
  },
  {
   "cell_type": "code",
   "execution_count": null,
   "metadata": {},
   "outputs": [],
   "source": []
  }
 ],
 "metadata": {
  "kernelspec": {
   "display_name": "Python 3",
   "language": "python",
   "name": "python3"
  },
  "language_info": {
   "codemirror_mode": {
    "name": "ipython",
    "version": 3
   },
   "file_extension": ".py",
   "mimetype": "text/x-python",
   "name": "python",
   "nbconvert_exporter": "python",
   "pygments_lexer": "ipython3",
   "version": "3.8.5"
  }
 },
 "nbformat": 4,
 "nbformat_minor": 4
}
