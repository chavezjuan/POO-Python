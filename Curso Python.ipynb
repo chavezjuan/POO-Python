{
 "cells": [
  {
   "cell_type": "markdown",
   "metadata": {},
   "source": [
    "# Curso Python PIG UFF 2020.2"
   ]
  },
  {
   "cell_type": "markdown",
   "metadata": {},
   "source": [
    "## Aula 62"
   ]
  },
  {
   "cell_type": "markdown",
   "metadata": {},
   "source": [
    "### Herança e Polimorfismo\n",
    "----"
   ]
  },
  {
   "cell_type": "code",
   "execution_count": 28,
   "metadata": {},
   "outputs": [],
   "source": [
    "class Mamifero(object):\n",
    "    def __init__(self, pelo, genero, num_patas):\n",
    "        self.pelo = pelo\n",
    "        self.genero = genero\n",
    "        self.num_patas = num_patas\n",
    "    def falar(self):\n",
    "        print('Ola sou um mamífero e sei falar')\n",
    "    def andar(self):\n",
    "        print('Estou andando sobre %i patas' %self.num_patas)\n",
    "    def amamentar(self):\n",
    "        if self.genero.lower()[0] == 'm':\n",
    "            print('Machos não amamentam')\n",
    "            return\n",
    "        print('Amamentando meu filhote')\n",
    "        "
   ]
  },
  {
   "cell_type": "code",
   "execution_count": 2,
   "metadata": {},
   "outputs": [],
   "source": [
    "Rex = Mamifero('marrom', 'masculino', 4)"
   ]
  },
  {
   "cell_type": "code",
   "execution_count": 3,
   "metadata": {},
   "outputs": [
    {
     "name": "stdout",
     "output_type": "stream",
     "text": [
      "Ola sou um maífero e sei falar\n"
     ]
    }
   ],
   "source": [
    "Rex.falar()"
   ]
  },
  {
   "cell_type": "code",
   "execution_count": 4,
   "metadata": {},
   "outputs": [
    {
     "name": "stdout",
     "output_type": "stream",
     "text": [
      "Estou andando sobre 4 patas\n"
     ]
    }
   ],
   "source": [
    "Rex.andar()"
   ]
  },
  {
   "cell_type": "code",
   "execution_count": 5,
   "metadata": {},
   "outputs": [
    {
     "name": "stdout",
     "output_type": "stream",
     "text": [
      "Machos não amamentam\n"
     ]
    }
   ],
   "source": [
    "Rex.amamentar()"
   ]
  },
  {
   "cell_type": "code",
   "execution_count": 6,
   "metadata": {},
   "outputs": [],
   "source": [
    "Julia = Mamifero('preta', 'feminino', 2)"
   ]
  },
  {
   "cell_type": "code",
   "execution_count": 7,
   "metadata": {},
   "outputs": [
    {
     "name": "stdout",
     "output_type": "stream",
     "text": [
      "Estou andando sobre 2 patas\n"
     ]
    }
   ],
   "source": [
    "Julia.andar()"
   ]
  },
  {
   "cell_type": "code",
   "execution_count": 8,
   "metadata": {},
   "outputs": [
    {
     "name": "stdout",
     "output_type": "stream",
     "text": [
      "Amamentando meu filhote\n"
     ]
    }
   ],
   "source": [
    "Julia.amamentar()"
   ]
  },
  {
   "cell_type": "markdown",
   "metadata": {},
   "source": [
    "#### Criando uma subclasse que irá herdar as características da classe Mamífero"
   ]
  },
  {
   "cell_type": "code",
   "execution_count": 9,
   "metadata": {},
   "outputs": [],
   "source": [
    "class Pessoa(Mamifero):\n",
    "    pass"
   ]
  },
  {
   "cell_type": "code",
   "execution_count": 10,
   "metadata": {},
   "outputs": [],
   "source": [
    "Julia = Pessoa('preta', 'feminino', 2)"
   ]
  },
  {
   "cell_type": "markdown",
   "metadata": {},
   "source": [
    "#### A seguir observamos que que o objeto Julia da subclasse Pessoa continua acessando os métodos e propriedades de sua classe Mãe (Superclasse)"
   ]
  },
  {
   "cell_type": "code",
   "execution_count": 11,
   "metadata": {},
   "outputs": [
    {
     "name": "stdout",
     "output_type": "stream",
     "text": [
      "Estou andando sobre 2 patas\n"
     ]
    }
   ],
   "source": [
    "Julia.andar()"
   ]
  },
  {
   "cell_type": "code",
   "execution_count": 12,
   "metadata": {},
   "outputs": [
    {
     "name": "stdout",
     "output_type": "stream",
     "text": [
      "Amamentando meu filhote\n"
     ]
    }
   ],
   "source": [
    "Julia.amamentar()"
   ]
  },
  {
   "cell_type": "markdown",
   "metadata": {},
   "source": [
    "#### Agora se criarmos métodos e atributos com o mesmo nome da superclasse, iremos sobrescrever o método/atributo original. Para isso chamamos de Polimorfismo."
   ]
  },
  {
   "cell_type": "code",
   "execution_count": 27,
   "metadata": {},
   "outputs": [],
   "source": [
    "class Pessoa(Mamifero):\n",
    "    def __init__(self, pelo, genero, num_patas, cabelo):\n",
    "        super(Pessoa, self).__init__(pelo, genero, num_patas)\n",
    "        super(Pessoa, self).falar()\n",
    "        self.cabelo = 'Loiro'\n",
    "    def falar(self):\n",
    "        print('Ola sou uma pessoa e sei falar')"
   ]
  },
  {
   "cell_type": "code",
   "execution_count": 19,
   "metadata": {},
   "outputs": [
    {
     "ename": "TypeError",
     "evalue": "__init__() missing 3 required positional arguments: 'pelo', 'genero', and 'num_patas'",
     "output_type": "error",
     "traceback": [
      "\u001b[1;31m---------------------------------------------------------------------------\u001b[0m",
      "\u001b[1;31mTypeError\u001b[0m                                 Traceback (most recent call last)",
      "\u001b[1;32m<ipython-input-19-f8eda18fe5d6>\u001b[0m in \u001b[0;36m<module>\u001b[1;34m\u001b[0m\n\u001b[1;32m----> 1\u001b[1;33m \u001b[0mJulia\u001b[0m \u001b[1;33m=\u001b[0m \u001b[0mPessoa\u001b[0m\u001b[1;33m(\u001b[0m\u001b[1;33m)\u001b[0m\u001b[1;33m\u001b[0m\u001b[1;33m\u001b[0m\u001b[0m\n\u001b[0m",
      "\u001b[1;31mTypeError\u001b[0m: __init__() missing 3 required positional arguments: 'pelo', 'genero', and 'num_patas'"
     ]
    }
   ],
   "source": [
    "Julia = Pessoa()"
   ]
  },
  {
   "cell_type": "code",
   "execution_count": 18,
   "metadata": {},
   "outputs": [
    {
     "name": "stdout",
     "output_type": "stream",
     "text": [
      "Ola sou uma pessoa e sei falar\n"
     ]
    }
   ],
   "source": [
    "Julia.falar()"
   ]
  },
  {
   "cell_type": "markdown",
   "metadata": {},
   "source": [
    "#### Com a função `super` conseguimos usar os métodos e atributos da superclasse."
   ]
  },
  {
   "cell_type": "code",
   "execution_count": 29,
   "metadata": {},
   "outputs": [
    {
     "name": "stdout",
     "output_type": "stream",
     "text": [
      "Ola sou um mamífero e sei falar\n"
     ]
    }
   ],
   "source": [
    "Julia = Pessoa('preta', 'feminino', 2, 'Loiro')"
   ]
  },
  {
   "cell_type": "code",
   "execution_count": 30,
   "metadata": {},
   "outputs": [
    {
     "name": "stdout",
     "output_type": "stream",
     "text": [
      "Ola sou uma pessoa e sei falar\n"
     ]
    }
   ],
   "source": [
    "Julia.falar()"
   ]
  },
  {
   "cell_type": "markdown",
   "metadata": {},
   "source": [
    "#### Uma boa prática é fazer que todas as classes sejam subclasse da classe `object`. Por isso anteriormente escrevemos funções com esse parâmetro."
   ]
  },
  {
   "cell_type": "markdown",
   "metadata": {},
   "source": [
    "## Aula 63\n",
    "https://www.youtube.com/watch?v=EATc7M4jYiA&list=PLfCKf0-awunOu2WyLe2pSD2fXUo795xRe&index=65&t=10s"
   ]
  },
  {
   "cell_type": "markdown",
   "metadata": {},
   "source": [
    "### Abstração, Atributo/Métodos Estáticos e Encapsulamento\n",
    "---"
   ]
  },
  {
   "cell_type": "markdown",
   "metadata": {},
   "source": [
    "#### Abstração"
   ]
  },
  {
   "cell_type": "markdown",
   "metadata": {},
   "source": [
    "Começamos com a Abstração. Ela consiste em criar um método mas não implementa-lo, deixando essa tarefa para as subclasses que derão implementar esse método. No código a seguir, os métodos `area` e `perimetro` são métodos abstratos. Esse conceito é muito parecido com o de Interface, no qual encontramos nativo na linguagem C#."
   ]
  },
  {
   "cell_type": "code",
   "execution_count": 1,
   "metadata": {},
   "outputs": [],
   "source": [
    "class ObjetoGrafico(object):\n",
    "    def __init__(self, cor):\n",
    "        self.cor = cor\n",
    "    def area(self):\n",
    "        pass\n",
    "    def perimetro(self):\n",
    "        pass\n",
    "    def info(self):\n",
    "        print('%f metros quadrados serão preenchidos com a cor %s'%(self.area(), self.cor))\n",
    "        "
   ]
  },
  {
   "cell_type": "markdown",
   "metadata": {},
   "source": [
    "#### Atributo/Métodos Estáticos"
   ]
  },
  {
   "cell_type": "code",
   "execution_count": 3,
   "metadata": {},
   "outputs": [],
   "source": [
    "class Conta(object):\n",
    "    total = 10000\n",
    "    reserva = 0.1\n",
    "    def __init__(self,ID, saldo):\n",
    "        self.ID = ID\n",
    "        self.saldo = saldo\n",
    "    def deposito(self, valor):\n",
    "        self.saldo += valor\n",
    "        Conta.total += self.saldo\n",
    "    def saque(self, valor):\n",
    "        if self.saldo >= valor:\n",
    "            self.saldo -= valor\n",
    "            Conta.total -= valor\n",
    "    def imprimeReserva():\n",
    "        print(Conta.total*Conta.reserva)"
   ]
  },
  {
   "cell_type": "markdown",
   "metadata": {},
   "source": [
    "#### Encapsulamento"
   ]
  },
  {
   "cell_type": "markdown",
   "metadata": {},
   "source": [
    "Encapsulamento é esconder determinado atributo ou método. É o equivalente ao `private` no C# ou Java. Só pode ser acesso dentro da instância ou classe. Observo no exemplo a seguir que `__total` e `__ID` possuem um identificador antes do nome da variável, o que caracteriza uma variável privada. Em Python não existe `protected`."
   ]
  },
  {
   "cell_type": "code",
   "execution_count": 8,
   "metadata": {},
   "outputs": [],
   "source": [
    "class Conta(object):\n",
    "    __total = 10000\n",
    "    reserva = 0.1\n",
    "    def __init__(self,ID, saldo):\n",
    "        self.__ID = ID\n",
    "        self.saldo = saldo\n",
    "    def deposito(self, valor):\n",
    "        self.saldo += valor\n",
    "        Conta.total += self.saldo\n",
    "    def saque(self, valor):\n",
    "        if self.saldo >= valor:\n",
    "            self.saldo -= valor\n",
    "            Conta.__total -= valor\n",
    "    def imprimeReserva():\n",
    "        print(Conta.__total*Conta.reserva)"
   ]
  },
  {
   "cell_type": "code",
   "execution_count": 5,
   "metadata": {},
   "outputs": [],
   "source": [
    "itau = Conta(123, 5000)"
   ]
  },
  {
   "cell_type": "code",
   "execution_count": 6,
   "metadata": {},
   "outputs": [
    {
     "ename": "AttributeError",
     "evalue": "type object 'Conta' has no attribute 'total'",
     "output_type": "error",
     "traceback": [
      "\u001b[1;31m---------------------------------------------------------------------------\u001b[0m",
      "\u001b[1;31mAttributeError\u001b[0m                            Traceback (most recent call last)",
      "\u001b[1;32m<ipython-input-6-c73a5cb0c5a5>\u001b[0m in \u001b[0;36m<module>\u001b[1;34m\u001b[0m\n\u001b[1;32m----> 1\u001b[1;33m \u001b[0mConta\u001b[0m\u001b[1;33m.\u001b[0m\u001b[0mtotal\u001b[0m\u001b[1;33m\u001b[0m\u001b[1;33m\u001b[0m\u001b[0m\n\u001b[0m",
      "\u001b[1;31mAttributeError\u001b[0m: type object 'Conta' has no attribute 'total'"
     ]
    }
   ],
   "source": [
    "Conta.total"
   ]
  },
  {
   "cell_type": "code",
   "execution_count": 7,
   "metadata": {},
   "outputs": [
    {
     "ename": "AttributeError",
     "evalue": "'Conta' object has no attribute '__ID'",
     "output_type": "error",
     "traceback": [
      "\u001b[1;31m---------------------------------------------------------------------------\u001b[0m",
      "\u001b[1;31mAttributeError\u001b[0m                            Traceback (most recent call last)",
      "\u001b[1;32m<ipython-input-7-90148ddc5525>\u001b[0m in \u001b[0;36m<module>\u001b[1;34m\u001b[0m\n\u001b[1;32m----> 1\u001b[1;33m \u001b[0mitau\u001b[0m\u001b[1;33m.\u001b[0m\u001b[0m__ID\u001b[0m\u001b[1;33m\u001b[0m\u001b[1;33m\u001b[0m\u001b[0m\n\u001b[0m",
      "\u001b[1;31mAttributeError\u001b[0m: 'Conta' object has no attribute '__ID'"
     ]
    }
   ],
   "source": [
    "itau.__ID"
   ]
  },
  {
   "cell_type": "code",
   "execution_count": 9,
   "metadata": {},
   "outputs": [],
   "source": [
    "itau.saque(1000)"
   ]
  },
  {
   "cell_type": "code",
   "execution_count": 10,
   "metadata": {},
   "outputs": [
    {
     "name": "stdout",
     "output_type": "stream",
     "text": [
      "900.0\n"
     ]
    }
   ],
   "source": [
    "Conta.imprimeReserva()"
   ]
  },
  {
   "cell_type": "markdown",
   "metadata": {},
   "source": [
    "## Aula 64"
   ]
  },
  {
   "cell_type": "markdown",
   "metadata": {},
   "source": [
    "https://www.youtube.com/watch?v=mO_MGgyFY1Y&list=PLfCKf0-awunOu2WyLe2pSD2fXUo795xRe&index=66&t=5s"
   ]
  },
  {
   "cell_type": "markdown",
   "metadata": {},
   "source": [
    "### Métodos e Atributos Especiais\n",
    "---"
   ]
  },
  {
   "cell_type": "markdown",
   "metadata": {},
   "source": [
    "#### Métodos especiais"
   ]
  },
  {
   "cell_type": "markdown",
   "metadata": {},
   "source": [
    "`def __str__(self)` converte o objeto em string"
   ]
  },
  {
   "cell_type": "markdown",
   "metadata": {},
   "source": [
    "`def __add__(self)` permite usar a sintaxe de + para fazer operações. Da mesma forma `__sub__`, `__div__`, `__mult__`"
   ]
  },
  {
   "cell_type": "markdown",
   "metadata": {},
   "source": [
    "`__doc__` devolve uma string que contém a descrição dada aos métodos e de funções. Tudo que estiver entre `\"\"\"` `\"\"\"`"
   ]
  },
  {
   "cell_type": "markdown",
   "metadata": {},
   "source": [
    "`help()` detalhamento do objeto e classe"
   ]
  },
  {
   "cell_type": "markdown",
   "metadata": {},
   "source": [
    "#### Atributos"
   ]
  },
  {
   "cell_type": "markdown",
   "metadata": {},
   "source": [
    "`issubclass(Filha, Pai)` retorna se a classe FIlha é subclasse de Pai"
   ]
  },
  {
   "cell_type": "markdown",
   "metadata": {},
   "source": [
    "`Filha.__bases__` retorna quem é a sua superclasse direta."
   ]
  },
  {
   "cell_type": "markdown",
   "metadata": {},
   "source": [
    "`callable(Pai)` retorna se o objeto é chamável"
   ]
  },
  {
   "cell_type": "markdown",
   "metadata": {},
   "source": [
    "`def __call__(self, x): return x` torna o objeto chamável"
   ]
  },
  {
   "cell_type": "markdown",
   "metadata": {},
   "source": [
    "## Aula 65"
   ]
  },
  {
   "cell_type": "markdown",
   "metadata": {},
   "source": [
    "https://www.youtube.com/watch?v=RNZgGJsucQs&list=PLfCKf0-awunOu2WyLe2pSD2fXUo795xRe&index=66"
   ]
  },
  {
   "cell_type": "markdown",
   "metadata": {},
   "source": [
    "### Comparações e Extendendo objetos do Python\n",
    "---"
   ]
  },
  {
   "cell_type": "code",
   "execution_count": 37,
   "metadata": {},
   "outputs": [],
   "source": [
    "class Conta:\n",
    "    def __init__(self, i, s):\n",
    "        self.ID = i\n",
    "        self.saldo = s\n",
    "    def deposito(self, v):\n",
    "        self.saldo += v\n",
    "    def saque(self, v):\n",
    "        if self.saldo >= v:\n",
    "            self.saldo -= v\n",
    "    def __le__(self, outro):\n",
    "        if self.ID <= outro.ID:\n",
    "            return True\n",
    "        return False\n",
    "    def __eq__(self, outro):\n",
    "        if self.ID == outro.ID:\n",
    "            return True\n",
    "        return False\n",
    "    def __ge__(self, outro):\n",
    "        if self.ID >= outro.ID:\n",
    "            return True\n",
    "        return False\n",
    "    def __lt__(self, outro):\n",
    "        if self.ID < outro.ID:\n",
    "            return True\n",
    "        return False\n",
    "    def __gt__(self, outro):\n",
    "        if self.ID > outro.ID:\n",
    "            return True\n",
    "        return False\n",
    "    def __ne__(self, outro):\n",
    "        if self.ID != outro.ID:\n",
    "            return True\n",
    "        return False\n",
    "            "
   ]
  },
  {
   "cell_type": "code",
   "execution_count": 38,
   "metadata": {},
   "outputs": [],
   "source": [
    "itau = Conta(123, 4000)"
   ]
  },
  {
   "cell_type": "code",
   "execution_count": 39,
   "metadata": {},
   "outputs": [],
   "source": [
    "bradesco = Conta(123, 5000)"
   ]
  },
  {
   "cell_type": "code",
   "execution_count": 40,
   "metadata": {},
   "outputs": [
    {
     "data": {
      "text/plain": [
       "True"
      ]
     },
     "execution_count": 40,
     "metadata": {},
     "output_type": "execute_result"
    }
   ],
   "source": [
    "itau == bradesco"
   ]
  },
  {
   "cell_type": "markdown",
   "metadata": {},
   "source": [
    "A comparação é se as duas variáveis apontam para o mesmo objeto."
   ]
  },
  {
   "cell_type": "code",
   "execution_count": 41,
   "metadata": {},
   "outputs": [],
   "source": [
    "itau2 = Conta(123, 4200)"
   ]
  },
  {
   "cell_type": "code",
   "execution_count": 42,
   "metadata": {},
   "outputs": [],
   "source": [
    "itau2 = itau"
   ]
  },
  {
   "cell_type": "code",
   "execution_count": 43,
   "metadata": {},
   "outputs": [],
   "source": [
    "itau2.deposito(6)"
   ]
  },
  {
   "cell_type": "code",
   "execution_count": 44,
   "metadata": {},
   "outputs": [
    {
     "data": {
      "text/plain": [
       "4006"
      ]
     },
     "execution_count": 44,
     "metadata": {},
     "output_type": "execute_result"
    }
   ],
   "source": [
    "itau.saldo"
   ]
  },
  {
   "cell_type": "code",
   "execution_count": 45,
   "metadata": {},
   "outputs": [
    {
     "data": {
      "text/plain": [
       "True"
      ]
     },
     "execution_count": 45,
     "metadata": {},
     "output_type": "execute_result"
    }
   ],
   "source": [
    "itau2 == itau"
   ]
  },
  {
   "cell_type": "markdown",
   "metadata": {},
   "source": [
    "Nesse caso temos dois objetos que apontam para o mesmo endereço de memória, por isso `true`"
   ]
  },
  {
   "cell_type": "markdown",
   "metadata": {},
   "source": [
    "A função `id` dirá qual é o endereço de memória do objeto"
   ]
  },
  {
   "cell_type": "code",
   "execution_count": 46,
   "metadata": {},
   "outputs": [
    {
     "data": {
      "text/plain": [
       "22417544"
      ]
     },
     "execution_count": 46,
     "metadata": {},
     "output_type": "execute_result"
    }
   ],
   "source": [
    "id(itau)"
   ]
  },
  {
   "cell_type": "markdown",
   "metadata": {},
   "source": [
    "#### Métodos especiais de comparação"
   ]
  },
  {
   "cell_type": "markdown",
   "metadata": {},
   "source": [
    "`__le__` x<=y,   `__eq__` x==y,\n",
    "`__ge__` x>=y,\n",
    "`__lt__` x<y,\n",
    "`__gt__` x>y,\n",
    "`__ne__` !="
   ]
  },
  {
   "cell_type": "markdown",
   "metadata": {},
   "source": [
    "Como ordenar as contas."
   ]
  },
  {
   "cell_type": "code",
   "execution_count": 47,
   "metadata": {},
   "outputs": [],
   "source": [
    "class Contas(list):\n",
    "    def sort(self):\n",
    "        copia = self.copy()\n",
    "        tam = len(self)\n",
    "        self.clear()\n",
    "        while len(self) < tam:\n",
    "            min_id = copia[0]\n",
    "            for conta in copia:\n",
    "                if conta.ID < min_id.ID:\n",
    "                    min_id = conta\n",
    "            self.append(min_id)\n",
    "            copia.remove(min_id)"
   ]
  },
  {
   "cell_type": "code",
   "execution_count": 48,
   "metadata": {},
   "outputs": [],
   "source": [
    "class Banco:\n",
    "    def __init__(self):\n",
    "        self.contas = Contas()"
   ]
  },
  {
   "cell_type": "code",
   "execution_count": 49,
   "metadata": {},
   "outputs": [],
   "source": [
    "santander = Conta(789, 6000)"
   ]
  },
  {
   "cell_type": "code",
   "execution_count": 50,
   "metadata": {},
   "outputs": [],
   "source": [
    "itau = Conta(438, 7500)"
   ]
  },
  {
   "cell_type": "code",
   "execution_count": 51,
   "metadata": {},
   "outputs": [],
   "source": [
    "bradesco = Conta(280, 3000)"
   ]
  },
  {
   "cell_type": "code",
   "execution_count": 52,
   "metadata": {},
   "outputs": [],
   "source": [
    "banco = Banco()"
   ]
  },
  {
   "cell_type": "code",
   "execution_count": 53,
   "metadata": {},
   "outputs": [],
   "source": [
    "banco.contas.append(itau)"
   ]
  },
  {
   "cell_type": "code",
   "execution_count": 54,
   "metadata": {},
   "outputs": [],
   "source": [
    "banco.contas.append(bradesco)"
   ]
  },
  {
   "cell_type": "code",
   "execution_count": 55,
   "metadata": {},
   "outputs": [],
   "source": [
    "banco.contas.append(santander)"
   ]
  },
  {
   "cell_type": "markdown",
   "metadata": {},
   "source": [
    "A conta deverá ter agora três objetos:"
   ]
  },
  {
   "cell_type": "code",
   "execution_count": 56,
   "metadata": {},
   "outputs": [
    {
     "data": {
      "text/plain": [
       "[<__main__.Conta at 0x1561238>,\n",
       " <__main__.Conta at 0x15614d8>,\n",
       " <__main__.Conta at 0x15611f0>]"
      ]
     },
     "execution_count": 56,
     "metadata": {},
     "output_type": "execute_result"
    }
   ],
   "source": [
    "banco.contas"
   ]
  },
  {
   "cell_type": "code",
   "execution_count": 57,
   "metadata": {},
   "outputs": [],
   "source": [
    "banco.contas.sort()"
   ]
  },
  {
   "cell_type": "code",
   "execution_count": 58,
   "metadata": {},
   "outputs": [
    {
     "data": {
      "text/plain": [
       "[<__main__.Conta at 0x15614d8>,\n",
       " <__main__.Conta at 0x1561238>,\n",
       " <__main__.Conta at 0x15611f0>]"
      ]
     },
     "execution_count": 58,
     "metadata": {},
     "output_type": "execute_result"
    }
   ],
   "source": [
    "banco.contas"
   ]
  },
  {
   "cell_type": "code",
   "execution_count": 59,
   "metadata": {},
   "outputs": [
    {
     "data": {
      "text/plain": [
       "280"
      ]
     },
     "execution_count": 59,
     "metadata": {},
     "output_type": "execute_result"
    }
   ],
   "source": [
    "banco.contas[0].ID"
   ]
  },
  {
   "cell_type": "code",
   "execution_count": 60,
   "metadata": {},
   "outputs": [
    {
     "data": {
      "text/plain": [
       "438"
      ]
     },
     "execution_count": 60,
     "metadata": {},
     "output_type": "execute_result"
    }
   ],
   "source": [
    "banco.contas[1].ID"
   ]
  },
  {
   "cell_type": "code",
   "execution_count": 61,
   "metadata": {},
   "outputs": [
    {
     "data": {
      "text/plain": [
       "789"
      ]
     },
     "execution_count": 61,
     "metadata": {},
     "output_type": "execute_result"
    }
   ],
   "source": [
    "banco.contas[2].ID"
   ]
  },
  {
   "cell_type": "markdown",
   "metadata": {},
   "source": [
    "Observamos que podemos estender os métodos em Python, inclusive alterando a forma como os métodos nativos funcionam como observamos com o `sort()` no exemplo acima. "
   ]
  },
  {
   "cell_type": "markdown",
   "metadata": {},
   "source": [
    "## Aula 66\n",
    "https://www.youtube.com/watch?v=dgzkFhrLIHs&list=PLfCKf0-awunOu2WyLe2pSD2fXUo795xRe&index=68&t=3s"
   ]
  },
  {
   "cell_type": "markdown",
   "metadata": {},
   "source": [
    "### Módulos, sys.path, pacotes, __name__\n",
    "---"
   ]
  },
  {
   "cell_type": "markdown",
   "metadata": {},
   "source": [
    "Como executar um arquivo que está em outra pasta diferente da raiz. Uma forma forma é utilizando sys.path no início do arquivo."
   ]
  },
  {
   "cell_type": "code",
   "execution_count": 1,
   "metadata": {},
   "outputs": [
    {
     "data": {
      "text/plain": [
       "['C:\\\\Users\\\\Juan Chavez\\\\PycharmProjects\\\\Curso_Python_PIG',\n",
       " 'c:\\\\users\\\\juan chavez\\\\appdata\\\\local\\\\programs\\\\python\\\\python38-32\\\\python38.zip',\n",
       " 'c:\\\\users\\\\juan chavez\\\\appdata\\\\local\\\\programs\\\\python\\\\python38-32\\\\DLLs',\n",
       " 'c:\\\\users\\\\juan chavez\\\\appdata\\\\local\\\\programs\\\\python\\\\python38-32\\\\lib',\n",
       " 'c:\\\\users\\\\juan chavez\\\\appdata\\\\local\\\\programs\\\\python\\\\python38-32',\n",
       " '',\n",
       " 'c:\\\\users\\\\juan chavez\\\\appdata\\\\local\\\\programs\\\\python\\\\python38-32\\\\lib\\\\site-packages',\n",
       " 'c:\\\\users\\\\juan chavez\\\\appdata\\\\local\\\\programs\\\\python\\\\python38-32\\\\lib\\\\site-packages\\\\win32',\n",
       " 'c:\\\\users\\\\juan chavez\\\\appdata\\\\local\\\\programs\\\\python\\\\python38-32\\\\lib\\\\site-packages\\\\win32\\\\lib',\n",
       " 'c:\\\\users\\\\juan chavez\\\\appdata\\\\local\\\\programs\\\\python\\\\python38-32\\\\lib\\\\site-packages\\\\Pythonwin',\n",
       " 'c:\\\\users\\\\juan chavez\\\\appdata\\\\local\\\\programs\\\\python\\\\python38-32\\\\lib\\\\site-packages\\\\IPython\\\\extensions',\n",
       " 'C:\\\\Users\\\\Juan Chavez\\\\.ipython']"
      ]
     },
     "execution_count": 1,
     "metadata": {},
     "output_type": "execute_result"
    }
   ],
   "source": [
    "import sys\n",
    "sys.path"
   ]
  },
  {
   "cell_type": "code",
   "execution_count": 5,
   "metadata": {},
   "outputs": [],
   "source": [
    "sys.path.append('Outras')"
   ]
  },
  {
   "cell_type": "code",
   "execution_count": 6,
   "metadata": {},
   "outputs": [
    {
     "data": {
      "text/plain": [
       "['C:\\\\Users\\\\Juan Chavez\\\\PycharmProjects\\\\Curso_Python_PIG',\n",
       " 'c:\\\\users\\\\juan chavez\\\\appdata\\\\local\\\\programs\\\\python\\\\python38-32\\\\python38.zip',\n",
       " 'c:\\\\users\\\\juan chavez\\\\appdata\\\\local\\\\programs\\\\python\\\\python38-32\\\\DLLs',\n",
       " 'c:\\\\users\\\\juan chavez\\\\appdata\\\\local\\\\programs\\\\python\\\\python38-32\\\\lib',\n",
       " 'c:\\\\users\\\\juan chavez\\\\appdata\\\\local\\\\programs\\\\python\\\\python38-32',\n",
       " '',\n",
       " 'c:\\\\users\\\\juan chavez\\\\appdata\\\\local\\\\programs\\\\python\\\\python38-32\\\\lib\\\\site-packages',\n",
       " 'c:\\\\users\\\\juan chavez\\\\appdata\\\\local\\\\programs\\\\python\\\\python38-32\\\\lib\\\\site-packages\\\\win32',\n",
       " 'c:\\\\users\\\\juan chavez\\\\appdata\\\\local\\\\programs\\\\python\\\\python38-32\\\\lib\\\\site-packages\\\\win32\\\\lib',\n",
       " 'c:\\\\users\\\\juan chavez\\\\appdata\\\\local\\\\programs\\\\python\\\\python38-32\\\\lib\\\\site-packages\\\\Pythonwin',\n",
       " 'c:\\\\users\\\\juan chavez\\\\appdata\\\\local\\\\programs\\\\python\\\\python38-32\\\\lib\\\\site-packages\\\\IPython\\\\extensions',\n",
       " 'C:\\\\Users\\\\Juan Chavez\\\\.ipython',\n",
       " 'Outras aulas',\n",
       " 'Outras']"
      ]
     },
     "execution_count": 6,
     "metadata": {},
     "output_type": "execute_result"
    }
   ],
   "source": [
    "sys.path"
   ]
  },
  {
   "cell_type": "markdown",
   "metadata": {},
   "source": [
    "Observamos que agora o caminho para a nossa pasta já se encontra na lista de caminhos que o programa tem acesso. Dessa forma podemos importar a pasta sem problemas utilizando `from Outras import *`. Outra forma é utilizando pacotes. Dessa forma consigo importa um arquivo específico:"
   ]
  },
  {
   "cell_type": "code",
   "execution_count": 11,
   "metadata": {},
   "outputs": [],
   "source": [
    "from Outras.aula59_classes_sintaxe import *"
   ]
  },
  {
   "cell_type": "markdown",
   "metadata": {},
   "source": [
    "Os módulos em Python são como objetos, logo possuem atributos. O principal é o `__name__`. Se esse módulo estiver sendo executado, o nome do atributo será `__main__` e irá imprimir a mensagem. Caso contrário, se esse módulo estiver sendo importado, nada mostrará. Essa lógica deverá ser colocada no final do arquivo:"
   ]
  },
  {
   "cell_type": "code",
   "execution_count": 13,
   "metadata": {},
   "outputs": [
    {
     "name": "stdout",
     "output_type": "stream",
     "text": [
      "Você tentou executar esse arquivo\n"
     ]
    }
   ],
   "source": [
    "if __name__ == '__main__':\n",
    "    print('Você tentou executar esse arquivo')"
   ]
  },
  {
   "cell_type": "markdown",
   "metadata": {},
   "source": [
    "## Aula 67\n",
    "https://www.youtube.com/watch?v=rxS3j9s4msI&list=PLfCKf0-awunOu2WyLe2pSD2fXUo795xRe&index=68"
   ]
  },
  {
   "cell_type": "markdown",
   "metadata": {},
   "source": [
    "### Exceções I: Introdução\n",
    "---"
   ]
  },
  {
   "cell_type": "markdown",
   "metadata": {},
   "source": [
    "Iremos entender os `ValueError` do Python. Podemos utilizá-las para contornar esses erros. Para isso utilizaremos o `try except`. Por exemplo, se tentarmos passar uma informação string quando é restrito para inteiros:"
   ]
  },
  {
   "cell_type": "code",
   "execution_count": 15,
   "metadata": {},
   "outputs": [
    {
     "name": "stdout",
     "output_type": "stream",
     "text": [
      "Digite um número: asdasd\n"
     ]
    },
    {
     "ename": "ValueError",
     "evalue": "invalid literal for int() with base 10: 'asdasd'",
     "output_type": "error",
     "traceback": [
      "\u001b[1;31m---------------------------------------------------------------------------\u001b[0m",
      "\u001b[1;31mValueError\u001b[0m                                Traceback (most recent call last)",
      "\u001b[1;32m<ipython-input-15-cf31234b5ae4>\u001b[0m in \u001b[0;36m<module>\u001b[1;34m\u001b[0m\n\u001b[1;32m----> 1\u001b[1;33m \u001b[0mx\u001b[0m \u001b[1;33m=\u001b[0m \u001b[0mint\u001b[0m\u001b[1;33m(\u001b[0m\u001b[0minput\u001b[0m\u001b[1;33m(\u001b[0m\u001b[1;34m'Digite um número: '\u001b[0m\u001b[1;33m)\u001b[0m\u001b[1;33m)\u001b[0m\u001b[1;33m\u001b[0m\u001b[1;33m\u001b[0m\u001b[0m\n\u001b[0m\u001b[0;32m      2\u001b[0m \u001b[0mprint\u001b[0m\u001b[1;33m(\u001b[0m\u001b[0mx\u001b[0m\u001b[1;33m)\u001b[0m\u001b[1;33m\u001b[0m\u001b[1;33m\u001b[0m\u001b[0m\n",
      "\u001b[1;31mValueError\u001b[0m: invalid literal for int() with base 10: 'asdasd'"
     ]
    }
   ],
   "source": [
    "x = int(input('Digite um número: '))\n",
    "print(x)"
   ]
  },
  {
   "cell_type": "code",
   "execution_count": 17,
   "metadata": {},
   "outputs": [
    {
     "name": "stdout",
     "output_type": "stream",
     "text": [
      "Digite um número: sdsd\n",
      "Deu erro!\n"
     ]
    }
   ],
   "source": [
    "try:\n",
    "    x = int(input('Digite um número: '))\n",
    "    print(x)\n",
    "except:\n",
    "    print('Deu erro!')\n",
    "    x = 0 #Assim continua o programa apesar do erro\n",
    "    "
   ]
  },
  {
   "cell_type": "markdown",
   "metadata": {},
   "source": [
    "Para saber os diversos tipos de `ValueError` que podem ocorrer, consultar a documentação do Python."
   ]
  },
  {
   "cell_type": "code",
   "execution_count": 18,
   "metadata": {},
   "outputs": [
    {
     "name": "stdout",
     "output_type": "stream",
     "text": [
      "Digite um número: asdas\n",
      "Deu erro!\n",
      "0\n"
     ]
    }
   ],
   "source": [
    "try:\n",
    "    x = int(input('Digite um número: '))\n",
    "except:\n",
    "    print('Deu erro!')\n",
    "    x = 0 #Assim continua o programa apesar do erro\n",
    "finally:\n",
    "    print(x)"
   ]
  },
  {
   "cell_type": "markdown",
   "metadata": {},
   "source": [
    "O `finally` irá executar independente de cair no `try` ou `except`."
   ]
  },
  {
   "cell_type": "markdown",
   "metadata": {},
   "source": [
    "Para fazermos um `except` específico para um erro, podemos colocar o nome no ERROR da seguinte forma:"
   ]
  },
  {
   "cell_type": "code",
   "execution_count": 19,
   "metadata": {},
   "outputs": [
    {
     "ename": "IndentationError",
     "evalue": "expected an indented block (<ipython-input-19-5f28c182d386>, line 3)",
     "output_type": "error",
     "traceback": [
      "\u001b[1;36m  File \u001b[1;32m\"<ipython-input-19-5f28c182d386>\"\u001b[1;36m, line \u001b[1;32m3\u001b[0m\n\u001b[1;33m    except FileNotFoundError:\u001b[0m\n\u001b[1;37m    ^\u001b[0m\n\u001b[1;31mIndentationError\u001b[0m\u001b[1;31m:\u001b[0m expected an indented block\n"
     ]
    }
   ],
   "source": [
    "try:\n",
    "    \n",
    "except FileNotFoundError:"
   ]
  },
  {
   "cell_type": "markdown",
   "metadata": {},
   "source": [
    "## Aula 68\n",
    "https://www.youtube.com/watch?v=UcA5o6X7vCg&list=PLfCKf0-awunOu2WyLe2pSD2fXUo795xRe&index=69"
   ]
  },
  {
   "cell_type": "markdown",
   "metadata": {},
   "source": [
    "### Exceções II: Raise e Excessões Próprias\n",
    "---"
   ]
  },
  {
   "cell_type": "markdown",
   "metadata": {},
   "source": [
    "Podem ocorrer casos onde desejamos que seja 'levantado' um erro caso o usuário entre com uma informação errada. Para isso podemos usar o `raise`:"
   ]
  },
  {
   "cell_type": "code",
   "execution_count": 2,
   "metadata": {},
   "outputs": [],
   "source": [
    "def teste():\n",
    "    try:\n",
    "        a = int(input('Escolha um número entre 1 e 20: '))\n",
    "        if not 1<= a <= 20:\n",
    "            raise ValueError\n",
    "        else:\n",
    "            print('Entrada válida!')\n",
    "    except ValueError:\n",
    "        print('Entrada inválida!')"
   ]
  },
  {
   "cell_type": "code",
   "execution_count": 4,
   "metadata": {},
   "outputs": [
    {
     "name": "stdout",
     "output_type": "stream",
     "text": [
      "Escolha um número entre 1 e 20: 23\n",
      "Entrada inválida!\n"
     ]
    }
   ],
   "source": [
    "teste()"
   ]
  },
  {
   "cell_type": "markdown",
   "metadata": {},
   "source": [
    "Outra forma é levantar exceções que não estão definidas em Python"
   ]
  },
  {
   "cell_type": "code",
   "execution_count": 12,
   "metadata": {},
   "outputs": [],
   "source": [
    "#Para criar um Error, basta criar uma classe.\n",
    "class ValorRepetidoErro(Exception):\n",
    "    def __init__(self, n):\n",
    "        self.num = n\n",
    "    def __str__(self):\n",
    "        return 'O número %i já existe na lista!'%self.num\n",
    "\n",
    "def main():\n",
    "    lista = []\n",
    "    for i in range(3):\n",
    "        while True:\n",
    "            try:\n",
    "                num = int(input('Escolher um número: '))\n",
    "                break\n",
    "            except ValueError:\n",
    "                print('Digite apenas números!')\n",
    "        #Caso o número já estiver na lista, levantar o erro ValorRepetidoErro que criamos.\n",
    "        if num not in lista:\n",
    "            lista.append(num)\n",
    "        else:\n",
    "            raise ValorRepetidoErro(num)"
   ]
  },
  {
   "cell_type": "code",
   "execution_count": 13,
   "metadata": {},
   "outputs": [
    {
     "name": "stdout",
     "output_type": "stream",
     "text": [
      "Escolher um número: 8\n",
      "Escolher um número: 1\n",
      "Escolher um número: 8\n"
     ]
    },
    {
     "ename": "ValorRepetidoErro",
     "evalue": "O número 8 já existe na lista!",
     "output_type": "error",
     "traceback": [
      "\u001b[1;31m---------------------------------------------------------------------------\u001b[0m",
      "\u001b[1;31mValorRepetidoErro\u001b[0m                         Traceback (most recent call last)",
      "\u001b[1;32m<ipython-input-13-263240bbee7e>\u001b[0m in \u001b[0;36m<module>\u001b[1;34m\u001b[0m\n\u001b[1;32m----> 1\u001b[1;33m \u001b[0mmain\u001b[0m\u001b[1;33m(\u001b[0m\u001b[1;33m)\u001b[0m\u001b[1;33m\u001b[0m\u001b[1;33m\u001b[0m\u001b[0m\n\u001b[0m",
      "\u001b[1;32m<ipython-input-12-168401f93623>\u001b[0m in \u001b[0;36mmain\u001b[1;34m()\u001b[0m\n\u001b[0;32m     19\u001b[0m             \u001b[0mlista\u001b[0m\u001b[1;33m.\u001b[0m\u001b[0mappend\u001b[0m\u001b[1;33m(\u001b[0m\u001b[0mnum\u001b[0m\u001b[1;33m)\u001b[0m\u001b[1;33m\u001b[0m\u001b[1;33m\u001b[0m\u001b[0m\n\u001b[0;32m     20\u001b[0m         \u001b[1;32melse\u001b[0m\u001b[1;33m:\u001b[0m\u001b[1;33m\u001b[0m\u001b[1;33m\u001b[0m\u001b[0m\n\u001b[1;32m---> 21\u001b[1;33m             \u001b[1;32mraise\u001b[0m \u001b[0mValorRepetidoErro\u001b[0m\u001b[1;33m(\u001b[0m\u001b[0mnum\u001b[0m\u001b[1;33m)\u001b[0m\u001b[1;33m\u001b[0m\u001b[1;33m\u001b[0m\u001b[0m\n\u001b[0m",
      "\u001b[1;31mValorRepetidoErro\u001b[0m: O número 8 já existe na lista!"
     ]
    }
   ],
   "source": [
    "main()"
   ]
  },
  {
   "cell_type": "markdown",
   "metadata": {},
   "source": [
    "## Aula 69\n",
    "https://www.youtube.com/watch?v=lopN0kwz1rA&list=PLfCKf0-awunOu2WyLe2pSD2fXUo795xRe&index=70"
   ]
  },
  {
   "cell_type": "markdown",
   "metadata": {},
   "source": [
    "### Exceções III: Clausulas do bloco Try\n",
    "---"
   ]
  },
  {
   "cell_type": "markdown",
   "metadata": {},
   "source": [
    "Podemos colocar várias exceções com a mesma saída:"
   ]
  },
  {
   "cell_type": "code",
   "execution_count": 14,
   "metadata": {},
   "outputs": [
    {
     "name": "stdout",
     "output_type": "stream",
     "text": [
      "ERRO !!!\n",
      "Chegamos ao final\n"
     ]
    }
   ],
   "source": [
    "try:\n",
    "    lista = []\n",
    "    lista.append(int('dsag'))\n",
    "    print('Vamos time!')\n",
    "except (IndexError, ValueError):\n",
    "    print('ERRO !!!')\n",
    "finally:\n",
    "    print('Chegamos ao final')"
   ]
  },
  {
   "cell_type": "markdown",
   "metadata": {},
   "source": [
    "Podemos acessar a mensagem de erro nativa através do `as`:"
   ]
  },
  {
   "cell_type": "code",
   "execution_count": 16,
   "metadata": {},
   "outputs": [
    {
     "name": "stdout",
     "output_type": "stream",
     "text": [
      "invalid literal for int() with base 10: 'dsag'\n",
      "ERRO !!!\n",
      "Chegamos ao final\n"
     ]
    }
   ],
   "source": [
    "try:\n",
    "    lista = []\n",
    "    lista.append(int('dsag'))\n",
    "    print('Vamos time!')\n",
    "except (IndexError, ValueError) as excecao:\n",
    "    print(excecao)\n",
    "    print('ERRO !!!')\n",
    "finally:\n",
    "    print('Chegamos ao final')"
   ]
  },
  {
   "cell_type": "markdown",
   "metadata": {},
   "source": [
    "Usando a cláusula `else`, definimos uma ação se não houver exceções:"
   ]
  },
  {
   "cell_type": "code",
   "execution_count": 17,
   "metadata": {},
   "outputs": [
    {
     "name": "stdout",
     "output_type": "stream",
     "text": [
      "Vamos time!\n",
      "Sem erro. Muito bom!\n",
      "Chegamos ao final\n"
     ]
    }
   ],
   "source": [
    "try:\n",
    "    lista = []\n",
    "    lista.append(int('1'))\n",
    "    print('Vamos time!')\n",
    "except (IndexError, ValueError) as excecao:\n",
    "    print(excecao)\n",
    "    print('ERRO !!!')\n",
    "else:\n",
    "    print('Sem erro. Muito bom!')\n",
    "finally:\n",
    "    print('Chegamos ao final')"
   ]
  },
  {
   "cell_type": "markdown",
   "metadata": {},
   "source": [
    "Para lidarmos com as exceções que não definimos, podemos colocar `except` depois do `except` que definimos o ERROR:"
   ]
  },
  {
   "cell_type": "markdown",
   "metadata": {},
   "source": [
    "## Aula 70\n",
    "https://www.youtube.com/watch?v=qWO7gvtOHKY&list=PLfCKf0-awunOu2WyLe2pSD2fXUo795xRe&index=71"
   ]
  },
  {
   "cell_type": "markdown",
   "metadata": {},
   "source": [
    "### Exceções IV: Raise from e Assert\n",
    "---"
   ]
  },
  {
   "cell_type": "markdown",
   "metadata": {},
   "source": [
    "Exceções encadeadas é ideal quando temos erros encadeados, ou seja, erro leva a outro erro. Por exemplo:"
   ]
  },
  {
   "cell_type": "code",
   "execution_count": 18,
   "metadata": {},
   "outputs": [
    {
     "ename": "ZeroDivisionError",
     "evalue": "division by zero",
     "output_type": "error",
     "traceback": [
      "\u001b[1;31m---------------------------------------------------------------------------\u001b[0m",
      "\u001b[1;31mZeroDivisionError\u001b[0m                         Traceback (most recent call last)",
      "\u001b[1;32m<ipython-input-18-d9108eda757d>\u001b[0m in \u001b[0;36m<module>\u001b[1;34m\u001b[0m\n\u001b[1;32m----> 1\u001b[1;33m \u001b[0mnum\u001b[0m \u001b[1;33m=\u001b[0m \u001b[1;36m1\u001b[0m\u001b[1;33m/\u001b[0m\u001b[1;36m0\u001b[0m\u001b[1;33m\u001b[0m\u001b[1;33m\u001b[0m\u001b[0m\n\u001b[0m\u001b[0;32m      2\u001b[0m \u001b[0mint\u001b[0m\u001b[1;33m(\u001b[0m\u001b[0mnum\u001b[0m\u001b[1;33m)\u001b[0m\u001b[1;33m\u001b[0m\u001b[1;33m\u001b[0m\u001b[0m\n",
      "\u001b[1;31mZeroDivisionError\u001b[0m: division by zero"
     ]
    }
   ],
   "source": [
    "num = 1/0\n",
    "int(num)"
   ]
  },
  {
   "cell_type": "code",
   "execution_count": 20,
   "metadata": {},
   "outputs": [
    {
     "ename": "ValueError",
     "evalue": "",
     "output_type": "error",
     "traceback": [
      "\u001b[1;31m---------------------------------------------------------------------------\u001b[0m",
      "\u001b[1;31mZeroDivisionError\u001b[0m                         Traceback (most recent call last)",
      "\u001b[1;32m<ipython-input-20-1e7a52f6d203>\u001b[0m in \u001b[0;36m<module>\u001b[1;34m\u001b[0m\n\u001b[0;32m      1\u001b[0m \u001b[1;32mtry\u001b[0m\u001b[1;33m:\u001b[0m\u001b[1;33m\u001b[0m\u001b[1;33m\u001b[0m\u001b[0m\n\u001b[1;32m----> 2\u001b[1;33m     \u001b[0mnum\u001b[0m \u001b[1;33m=\u001b[0m \u001b[1;36m1\u001b[0m\u001b[1;33m/\u001b[0m\u001b[1;36m0\u001b[0m\u001b[1;33m\u001b[0m\u001b[1;33m\u001b[0m\u001b[0m\n\u001b[0m\u001b[0;32m      3\u001b[0m     \u001b[0mint\u001b[0m\u001b[1;33m(\u001b[0m\u001b[0mnum\u001b[0m\u001b[1;33m)\u001b[0m\u001b[1;33m\u001b[0m\u001b[1;33m\u001b[0m\u001b[0m\n",
      "\u001b[1;31mZeroDivisionError\u001b[0m: division by zero",
      "\nThe above exception was the direct cause of the following exception:\n",
      "\u001b[1;31mValueError\u001b[0m                                Traceback (most recent call last)",
      "\u001b[1;32m<ipython-input-20-1e7a52f6d203>\u001b[0m in \u001b[0;36m<module>\u001b[1;34m\u001b[0m\n\u001b[0;32m      4\u001b[0m \u001b[1;31m# Usando Exception estamos fazendo referência a todos os erros possíveis no Python\u001b[0m\u001b[1;33m\u001b[0m\u001b[1;33m\u001b[0m\u001b[1;33m\u001b[0m\u001b[0m\n\u001b[0;32m      5\u001b[0m \u001b[1;32mexcept\u001b[0m \u001b[0mException\u001b[0m \u001b[1;32mas\u001b[0m \u001b[0mE\u001b[0m\u001b[1;33m:\u001b[0m\u001b[1;33m\u001b[0m\u001b[1;33m\u001b[0m\u001b[0m\n\u001b[1;32m----> 6\u001b[1;33m     \u001b[1;32mraise\u001b[0m \u001b[0mValueError\u001b[0m \u001b[1;32mfrom\u001b[0m \u001b[0mE\u001b[0m\u001b[1;33m\u001b[0m\u001b[1;33m\u001b[0m\u001b[0m\n\u001b[0m",
      "\u001b[1;31mValueError\u001b[0m: "
     ]
    }
   ],
   "source": [
    "# Essa prática é bom para debbugar o programa\n",
    "try:\n",
    "    num = 1/0\n",
    "    int(num)\n",
    "# Usando Exception estamos fazendo referência a todos os erros possíveis no Python\n",
    "except Exception as E:\n",
    "    raise ValueError from E"
   ]
  },
  {
   "cell_type": "code",
   "execution_count": 21,
   "metadata": {},
   "outputs": [
    {
     "ename": "ValueError",
     "evalue": "",
     "output_type": "error",
     "traceback": [
      "\u001b[1;31m---------------------------------------------------------------------------\u001b[0m",
      "\u001b[1;31mSyntaxError\u001b[0m                               Traceback (most recent call last)",
      "\u001b[1;31mSyntaxError\u001b[0m: None",
      "\nThe above exception was the direct cause of the following exception:\n",
      "\u001b[1;31mValueError\u001b[0m                                Traceback (most recent call last)",
      "\u001b[1;32m<ipython-input-21-381748248b0b>\u001b[0m in \u001b[0;36m<module>\u001b[1;34m\u001b[0m\n\u001b[1;32m----> 1\u001b[1;33m \u001b[1;32mraise\u001b[0m \u001b[0mValueError\u001b[0m \u001b[1;32mfrom\u001b[0m \u001b[0mSyntaxError\u001b[0m\u001b[1;33m\u001b[0m\u001b[1;33m\u001b[0m\u001b[0m\n\u001b[0m",
      "\u001b[1;31mValueError\u001b[0m: "
     ]
    }
   ],
   "source": [
    "raise ValueError from SyntaxError"
   ]
  },
  {
   "cell_type": "code",
   "execution_count": null,
   "metadata": {},
   "outputs": [],
   "source": []
  },
  {
   "cell_type": "code",
   "execution_count": null,
   "metadata": {},
   "outputs": [],
   "source": []
  },
  {
   "cell_type": "code",
   "execution_count": null,
   "metadata": {},
   "outputs": [],
   "source": []
  },
  {
   "cell_type": "code",
   "execution_count": null,
   "metadata": {},
   "outputs": [],
   "source": []
  },
  {
   "cell_type": "code",
   "execution_count": null,
   "metadata": {},
   "outputs": [],
   "source": []
  }
 ],
 "metadata": {
  "kernelspec": {
   "display_name": "Python 3",
   "language": "python",
   "name": "python3"
  },
  "language_info": {
   "codemirror_mode": {
    "name": "ipython",
    "version": 3
   },
   "file_extension": ".py",
   "mimetype": "text/x-python",
   "name": "python",
   "nbconvert_exporter": "python",
   "pygments_lexer": "ipython3",
   "version": "3.8.5"
  }
 },
 "nbformat": 4,
 "nbformat_minor": 4
}
