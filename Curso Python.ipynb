{
 "cells": [
  {
   "cell_type": "markdown",
   "metadata": {},
   "source": [
    "# Curso Python PIG UFF 2020.2"
   ]
  },
  {
   "cell_type": "markdown",
   "metadata": {},
   "source": [
    "## Aula 62"
   ]
  },
  {
   "cell_type": "markdown",
   "metadata": {},
   "source": [
    "### Herança e Polimorfismo"
   ]
  },
  {
   "cell_type": "code",
   "execution_count": 28,
   "metadata": {},
   "outputs": [],
   "source": [
    "class Mamifero(object):\n",
    "    def __init__(self, pelo, genero, num_patas):\n",
    "        self.pelo = pelo\n",
    "        self.genero = genero\n",
    "        self.num_patas = num_patas\n",
    "    def falar(self):\n",
    "        print('Ola sou um mamífero e sei falar')\n",
    "    def andar(self):\n",
    "        print('Estou andando sobre %i patas' %self.num_patas)\n",
    "    def amamentar(self):\n",
    "        if self.genero.lower()[0] == 'm':\n",
    "            print('Machos não amamentam')\n",
    "            return\n",
    "        print('Amamentando meu filhote')\n",
    "        "
   ]
  },
  {
   "cell_type": "code",
   "execution_count": 2,
   "metadata": {},
   "outputs": [],
   "source": [
    "Rex = Mamifero('marrom', 'masculino', 4)"
   ]
  },
  {
   "cell_type": "code",
   "execution_count": 3,
   "metadata": {},
   "outputs": [
    {
     "name": "stdout",
     "output_type": "stream",
     "text": [
      "Ola sou um maífero e sei falar\n"
     ]
    }
   ],
   "source": [
    "Rex.falar()"
   ]
  },
  {
   "cell_type": "code",
   "execution_count": 4,
   "metadata": {},
   "outputs": [
    {
     "name": "stdout",
     "output_type": "stream",
     "text": [
      "Estou andando sobre 4 patas\n"
     ]
    }
   ],
   "source": [
    "Rex.andar()"
   ]
  },
  {
   "cell_type": "code",
   "execution_count": 5,
   "metadata": {},
   "outputs": [
    {
     "name": "stdout",
     "output_type": "stream",
     "text": [
      "Machos não amamentam\n"
     ]
    }
   ],
   "source": [
    "Rex.amamentar()"
   ]
  },
  {
   "cell_type": "code",
   "execution_count": 6,
   "metadata": {},
   "outputs": [],
   "source": [
    "Julia = Mamifero('preta', 'feminino', 2)"
   ]
  },
  {
   "cell_type": "code",
   "execution_count": 7,
   "metadata": {},
   "outputs": [
    {
     "name": "stdout",
     "output_type": "stream",
     "text": [
      "Estou andando sobre 2 patas\n"
     ]
    }
   ],
   "source": [
    "Julia.andar()"
   ]
  },
  {
   "cell_type": "code",
   "execution_count": 8,
   "metadata": {},
   "outputs": [
    {
     "name": "stdout",
     "output_type": "stream",
     "text": [
      "Amamentando meu filhote\n"
     ]
    }
   ],
   "source": [
    "Julia.amamentar()"
   ]
  },
  {
   "cell_type": "markdown",
   "metadata": {},
   "source": [
    "#### Criando uma subclasse que irá herdar as características da classe Mamífero"
   ]
  },
  {
   "cell_type": "code",
   "execution_count": 9,
   "metadata": {},
   "outputs": [],
   "source": [
    "class Pessoa(Mamifero):\n",
    "    pass"
   ]
  },
  {
   "cell_type": "code",
   "execution_count": 10,
   "metadata": {},
   "outputs": [],
   "source": [
    "Julia = Pessoa('preta', 'feminino', 2)"
   ]
  },
  {
   "cell_type": "markdown",
   "metadata": {},
   "source": [
    "#### A seguir observamos que que o objeto Julia da subclasse Pessoa continua acessando os métodos e propriedades de sua classe Mãe (Superclasse)"
   ]
  },
  {
   "cell_type": "code",
   "execution_count": 11,
   "metadata": {},
   "outputs": [
    {
     "name": "stdout",
     "output_type": "stream",
     "text": [
      "Estou andando sobre 2 patas\n"
     ]
    }
   ],
   "source": [
    "Julia.andar()"
   ]
  },
  {
   "cell_type": "code",
   "execution_count": 12,
   "metadata": {},
   "outputs": [
    {
     "name": "stdout",
     "output_type": "stream",
     "text": [
      "Amamentando meu filhote\n"
     ]
    }
   ],
   "source": [
    "Julia.amamentar()"
   ]
  },
  {
   "cell_type": "markdown",
   "metadata": {},
   "source": [
    "#### Agora se criarmos métodos e atributos com o mesmo nome da superclasse, iremos sobrescrever o método/atributo original. Para isso chamamos de Polimorfismo."
   ]
  },
  {
   "cell_type": "code",
   "execution_count": 27,
   "metadata": {},
   "outputs": [],
   "source": [
    "class Pessoa(Mamifero):\n",
    "    def __init__(self, pelo, genero, num_patas, cabelo):\n",
    "        super(Pessoa, self).__init__(pelo, genero, num_patas)\n",
    "        super(Pessoa, self).falar()\n",
    "        self.cabelo = 'Loiro'\n",
    "    def falar(self):\n",
    "        print('Ola sou uma pessoa e sei falar')"
   ]
  },
  {
   "cell_type": "code",
   "execution_count": 19,
   "metadata": {},
   "outputs": [
    {
     "ename": "TypeError",
     "evalue": "__init__() missing 3 required positional arguments: 'pelo', 'genero', and 'num_patas'",
     "output_type": "error",
     "traceback": [
      "\u001b[1;31m---------------------------------------------------------------------------\u001b[0m",
      "\u001b[1;31mTypeError\u001b[0m                                 Traceback (most recent call last)",
      "\u001b[1;32m<ipython-input-19-f8eda18fe5d6>\u001b[0m in \u001b[0;36m<module>\u001b[1;34m\u001b[0m\n\u001b[1;32m----> 1\u001b[1;33m \u001b[0mJulia\u001b[0m \u001b[1;33m=\u001b[0m \u001b[0mPessoa\u001b[0m\u001b[1;33m(\u001b[0m\u001b[1;33m)\u001b[0m\u001b[1;33m\u001b[0m\u001b[1;33m\u001b[0m\u001b[0m\n\u001b[0m",
      "\u001b[1;31mTypeError\u001b[0m: __init__() missing 3 required positional arguments: 'pelo', 'genero', and 'num_patas'"
     ]
    }
   ],
   "source": [
    "Julia = Pessoa()"
   ]
  },
  {
   "cell_type": "code",
   "execution_count": 18,
   "metadata": {},
   "outputs": [
    {
     "name": "stdout",
     "output_type": "stream",
     "text": [
      "Ola sou uma pessoa e sei falar\n"
     ]
    }
   ],
   "source": [
    "Julia.falar()"
   ]
  },
  {
   "cell_type": "markdown",
   "metadata": {},
   "source": [
    "#### Com a função `super` conseguimos usar os métodos e atributos da superclasse."
   ]
  },
  {
   "cell_type": "code",
   "execution_count": 29,
   "metadata": {},
   "outputs": [
    {
     "name": "stdout",
     "output_type": "stream",
     "text": [
      "Ola sou um mamífero e sei falar\n"
     ]
    }
   ],
   "source": [
    "Julia = Pessoa('preta', 'feminino', 2, 'Loiro')"
   ]
  },
  {
   "cell_type": "code",
   "execution_count": 30,
   "metadata": {},
   "outputs": [
    {
     "name": "stdout",
     "output_type": "stream",
     "text": [
      "Ola sou uma pessoa e sei falar\n"
     ]
    }
   ],
   "source": [
    "Julia.falar()"
   ]
  },
  {
   "cell_type": "markdown",
   "metadata": {},
   "source": [
    "#### Uma boa prática é fazer que todas as classes sejam subclasse da classe `object`. Por isso anteriormente escrevemos funções com esse parâmetro."
   ]
  }
 ],
 "metadata": {
  "kernelspec": {
   "display_name": "Python 3",
   "language": "python",
   "name": "python3"
  },
  "language_info": {
   "codemirror_mode": {
    "name": "ipython",
    "version": 3
   },
   "file_extension": ".py",
   "mimetype": "text/x-python",
   "name": "python",
   "nbconvert_exporter": "python",
   "pygments_lexer": "ipython3",
   "version": "3.8.5"
  }
 },
 "nbformat": 4,
 "nbformat_minor": 4
}
